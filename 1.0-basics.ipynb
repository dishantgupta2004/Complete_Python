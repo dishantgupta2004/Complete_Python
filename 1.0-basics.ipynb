{
 "cells": [
  {
   "cell_type": "markdown",
   "metadata": {},
   "source": [
    "### Syntax and Semantics in python"
   ]
  },
  {
   "cell_type": "markdown",
   "metadata": {},
   "source": [
    "1. Single line comments and multiline comments\n",
    "2. Definition of Syntax and Semantics\n",
    "3. Understanding semantics in python\n",
    "4. Basic Syntax rules in python\n",
    "5. Common Syntax Errors and How to avoid them.\n",
    "6. Practical Code Examples"
   ]
  },
  {
   "cell_type": "markdown",
   "metadata": {},
   "source": [
    "1. Syntax errors refers to the set of rules that defines the combinations of symbols that are considered to be correctly structured programs in a language. In a simpler terms, syntax is about the correct arrangement of words and symbols in a code.\n",
    "2. Semantics refers to the meaning or the intrepretation of the symbols, characters, and commands in a language. It is about what the code is supposed to do when it runs."
   ]
  },
  {
   "cell_type": "code",
   "execution_count": 1,
   "metadata": {},
   "outputs": [
    {
     "name": "stdout",
     "output_type": "stream",
     "text": [
      "Dishant Gupta\n"
     ]
    }
   ],
   "source": [
    "### Basic Syntax rules in python:\n",
    "### 1. python is a case-sensitive language. (a and A are both treated differently).\n",
    "\n",
    "name = \"Dishant\"\n",
    "Name = \"Gupta\"   ## Both variables are different\n",
    "print(name + ' ' +Name)"
   ]
  },
  {
   "cell_type": "markdown",
   "metadata": {},
   "source": [
    "1. Indentation in python is used to define the structure and hierarcy of code. Unlike many other programming language that use braces {} to delimit block of codes. Python uses indentation to determine the grouping of statements. This means that all the statements within block must be indented at the same level."
   ]
  },
  {
   "cell_type": "code",
   "execution_count": 2,
   "metadata": {},
   "outputs": [
    {
     "name": "stdout",
     "output_type": "stream",
     "text": [
      "32 You are old eligible to vote\n"
     ]
    }
   ],
   "source": [
    "age = 32\n",
    "if age > 30:\n",
    "    print(age,\"You are old eligible to vote\")\n",
    "else:\n",
    "    print(age, \"age < 30\")"
   ]
  },
  {
   "cell_type": "code",
   "execution_count": 3,
   "metadata": {},
   "outputs": [
    {
     "name": "stdout",
     "output_type": "stream",
     "text": [
      "31\n"
     ]
    }
   ],
   "source": [
    "## Line continuation\n",
    "total = 1+2+3+5 + 6+\\\n",
    "4 + 6 + 4\n",
    "    \n",
    "print(total)"
   ]
  },
  {
   "cell_type": "code",
   "execution_count": 4,
   "metadata": {},
   "outputs": [
    {
     "name": "stdout",
     "output_type": "stream",
     "text": [
      "15\n"
     ]
    }
   ],
   "source": [
    "### Multiple statements on a single line:\n",
    "x = 5; y = 10; z = x + y\n",
    "print(z)"
   ]
  },
  {
   "cell_type": "markdown",
   "metadata": {},
   "source": [
    "### Variables & Datatypes"
   ]
  },
  {
   "cell_type": "markdown",
   "metadata": {},
   "source": [
    "1. A variable is a name that refers to a memory location where a value is stored. It acts as a placeholder for storing data.\n",
    "2. Declaration: Variables in Python do not require explicit declaration of type; they are dynamically typed.\n",
    "\n"
   ]
  },
  {
   "cell_type": "markdown",
   "metadata": {},
   "source": [
    "- Naming Rules:\n",
    "1. Variable names must start with a letter (a-z, A-Z) or an underscore (_).\n",
    "They cannot start with a number.\n",
    "2. They can only contain alphanumeric characters and underscores (a-z, A-Z, 0-9, _).\n",
    "3. They are case-sensitive (e.g., name and Name are different).\n",
    "\n",
    "- Good Practices:\n",
    "1. Use meaningful names (e.g., temperature, not t).\n",
    "2. Use snake_case for multi-word variables (average_speed, not averageSpeed)."
   ]
  },
  {
   "cell_type": "markdown",
   "metadata": {},
   "source": [
    "1. Python provides various built-in data types. These are grouped into categories:\n",
    "- Primitive Types:\n",
    "+ Numeric Types: int: Integer values (e.g., 5, -10), float: Floating-point numbers (e.g., 3.14, -0.01), complex: Complex numbers with real and imaginary parts (e.g., 3+4j).\n",
    "+ Text Type: str: Strings, enclosed in quotes (\"hello\" or 'world').\n",
    "+ Boolean Type: bool: Boolean values (True or False)."
   ]
  },
  {
   "cell_type": "markdown",
   "metadata": {},
   "source": [
    "Typecasting converts one data type into another. Python supports explicit and implicit type conversion:``"
   ]
  },
  {
   "cell_type": "code",
   "execution_count": 5,
   "metadata": {},
   "outputs": [
    {
     "name": "stdout",
     "output_type": "stream",
     "text": [
      "Type of 5 is:- <class 'int'>\n",
      "Size of 5 is:- 28\n",
      "Type of 5.0 is:- <class 'float'>\n",
      "Size of 5.0 is:- 24\n"
     ]
    }
   ],
   "source": [
    "import sys\n",
    "a = 5\n",
    "print(\"Type of\",a,\"is:-\", type(a))\n",
    "print(\"Size of\",a,\"is:-\", sys.getsizeof(a))\n",
    "\n",
    "a = float(a)\n",
    "print(\"Type of\",a,\"is:-\", type(a))\n",
    "print(\"Size of\",a,\"is:-\", sys.getsizeof(a))\n"
   ]
  },
  {
   "cell_type": "code",
   "execution_count": 6,
   "metadata": {},
   "outputs": [
    {
     "name": "stdout",
     "output_type": "stream",
     "text": [
      "Size of integer x: 28\n",
      "Size of string name: 46\n",
      "Size of list lst: 88\n",
      "Size of dictionary d: 184\n"
     ]
    }
   ],
   "source": [
    "# Integer variable\n",
    "x = 10\n",
    "print(\"Size of integer x:\", sys.getsizeof(x))  # Output: Size of integer x: 28 (may vary)\n",
    "\n",
    "# String variable\n",
    "name = \"Hello\"\n",
    "print(\"Size of string name:\", sys.getsizeof(name))  # Output: Size of string name: 54 (may vary)\n",
    "\n",
    "# List variable\n",
    "lst = [1, 2, 3]\n",
    "print(\"Size of list lst:\", sys.getsizeof(lst))  # Output: Size of list lst: 88 (may vary)\n",
    "\n",
    "# Dictionary variable\n",
    "d = {'key': 'value'}\n",
    "print(\"Size of dictionary d:\", sys.getsizeof(d))  # Output: Size of dictionary d: 232 (may vary)\n"
   ]
  },
  {
   "cell_type": "code",
   "execution_count": 7,
   "metadata": {},
   "outputs": [
    {
     "name": "stdout",
     "output_type": "stream",
     "text": [
      "Total size of list lst: 172\n"
     ]
    }
   ],
   "source": [
    "lst = [1, 2, 3]\n",
    "total_size = sys.getsizeof(lst) + sum(sys.getsizeof(i) for i in lst)\n",
    "print(\"Total size of list lst:\", total_size)  # Output includes individual element sizes."
   ]
  },
  {
   "cell_type": "code",
   "execution_count": 9,
   "metadata": {},
   "outputs": [
    {
     "name": "stdout",
     "output_type": "stream",
     "text": [
      "Correct Indentation\n",
      "This will print\n",
      "Outside the if block\n"
     ]
    }
   ],
   "source": [
    "### Code examples for identation\n",
    "if True:\n",
    "    print(\"Correct Indentation\")\n",
    "    if False:\n",
    "        print(\"This ont print\")\n",
    "    print(\"This will print\")\n",
    "print(\"Outside the if block\")"
   ]
  },
  {
   "cell_type": "code",
   "execution_count": 10,
   "metadata": {},
   "outputs": [
    {
     "name": "stdout",
     "output_type": "stream",
     "text": [
      "age : 20\n",
      "Height: 6.1\n",
      "Name: Dishant\n"
     ]
    }
   ],
   "source": [
    "## Declaring And Assigning Variables\n",
    "\n",
    "age=20\n",
    "height=6.1\n",
    "name=\"Dishant\"\n",
    "is_student=True\n",
    "\n",
    "## printing the variables\n",
    "\n",
    "print(\"age :\",age)\n",
    "print(\"Height:\",height)\n",
    "print(\"Name:\",name)\n"
   ]
  },
  {
   "cell_type": "code",
   "execution_count": 11,
   "metadata": {},
   "outputs": [
    {
     "name": "stdout",
     "output_type": "stream",
     "text": [
      "10 <class 'int'>\n",
      "Hello <class 'str'>\n",
      "3.14 <class 'float'>\n"
     ]
    }
   ],
   "source": [
    "## Dynamic Typing\n",
    "## Python allows the type of a vraible to change as the program executes\n",
    "var=10 #int\n",
    "print(var,type(var))\n",
    "\n",
    "var=\"Hello\"\n",
    "print(var,type(var))\n",
    "\n",
    "var=3.14\n",
    "print(var,type(var))"
   ]
  },
  {
   "cell_type": "code",
   "execution_count": 12,
   "metadata": {},
   "outputs": [
    {
     "name": "stdout",
     "output_type": "stream",
     "text": [
      "20 <class 'int'>\n"
     ]
    }
   ],
   "source": [
    "## input\n",
    "\n",
    "age=int(input(\"What is the age\"))\n",
    "print(age,type(age))"
   ]
  },
  {
   "cell_type": "code",
   "execution_count": 13,
   "metadata": {},
   "outputs": [
    {
     "name": "stdout",
     "output_type": "stream",
     "text": [
      "Sum: 7.0\n",
      "Difference: -1.0\n",
      "Product: 12.0\n",
      "Quotient: 0.75\n"
     ]
    }
   ],
   "source": [
    "### Simple calculator\n",
    "num1 = float(input(\"Enter first number: \"))\n",
    "num2 = float(input(\"Enter second number: \"))\n",
    "\n",
    "sum = num1 + num2\n",
    "difference = num1 - num2\n",
    "product = num1 * num2\n",
    "quotient = num1 / num2\n",
    "\n",
    "print(\"Sum:\", sum)\n",
    "print(\"Difference:\", difference)\n",
    "print(\"Product:\", product)\n",
    "print(\"Quotient:\", quotient)"
   ]
  },
  {
   "cell_type": "code",
   "execution_count": null,
   "metadata": {},
   "outputs": [],
   "source": []
  }
 ],
 "metadata": {
  "kernelspec": {
   "display_name": "base",
   "language": "python",
   "name": "python3"
  },
  "language_info": {
   "codemirror_mode": {
    "name": "ipython",
    "version": 3
   },
   "file_extension": ".py",
   "mimetype": "text/x-python",
   "name": "python",
   "nbconvert_exporter": "python",
   "pygments_lexer": "ipython3",
   "version": "3.12.7"
  }
 },
 "nbformat": 4,
 "nbformat_minor": 2
}
