{
 "cells": [
  {
   "cell_type": "markdown",
   "metadata": {
    "vscode": {
     "languageId": "plaintext"
    }
   },
   "source": [
    "- Real-World Examples Using Lists in Python\n",
    "Lists are one of the most commonly used data structures in Python, thanks to their versatility and ease of use. Here are several practical examples that illustrate their use in real-world scenarios"
   ]
  },
  {
   "cell_type": "markdown",
   "metadata": {
    "vscode": {
     "languageId": "plaintext"
    }
   },
   "source": [
    "1. Create ToDo List to keep track of tasks\n",
    "2. Organizing the student grades\n",
    "3. Managing an Inventory\n",
    "4. Collecting User Feedback"
   ]
  },
  {
   "cell_type": "markdown",
   "metadata": {
    "vscode": {
     "languageId": "plaintext"
    }
   },
   "source": [
    "1. Write a function to remove duplicates from a list while maintaining the order.\n",
    "2. Rotate a list to the right by k steps\n",
    "3. Given a tuple (a, b), swap its element \n",
    "4. Check if a specific element exists in a nested tuple\n",
    "5. Find Unique common elements between two lists.\n",
    "6. Check if one set is subset of another.\n",
    "7. Count the frequency of each word in a given string.\n",
    "8. Sort a dictionary by its value in descending order.\n",
    "9. Write a function to invert a dictionary, swapping keys and values.\n",
    "10. Given a list of words, group them into anagrams."
   ]
  },
  {
   "cell_type": "markdown",
   "metadata": {
    "vscode": {
     "languageId": "plaintext"
    }
   },
   "source": [
    "1. Generate a list of squares of even numbers from 1 to 20 using list comprehension.\n",
    "2. Given a list of strings, filter out strings that have a length greater than 5 using list comprehension.\n",
    "3. Given a nested list [[1, 2], [3, 4], [5, 6]], flatten it into a single list using list comprehension.\n",
    "4. Convert a dictionary {'a': 1, 'b': 2, 'c': 3} into a list of tuples [(key, value), ...] using list comprehension.\n",
    "5. Write a list comprehension to remove all vowels from a given string s = \"hello world\".\n",
    "6. Given a list lst = [1, 2, 3, 4, 5], reverse it using slicing.\n",
    "7. Extract every alternate element from a list lst = [10, 20, 30, 40, 50] using slicing.\n",
    "8. Given a list lst = [1, 2, 3, 4, 5, 6], extract the middle two elements using slicing.\n",
    "9. Given a list of words words = ['Python', 'is', 'fun'], join them into a single string separated by spaces.\n",
    "10. Given a string s = \"this is a test string\", split it into a list of words and count the number of words."
   ]
  },
  {
   "cell_type": "code",
   "execution_count": null,
   "metadata": {
    "vscode": {
     "languageId": "plaintext"
    }
   },
   "outputs": [],
   "source": []
  },
  {
   "cell_type": "code",
   "execution_count": null,
   "metadata": {
    "vscode": {
     "languageId": "plaintext"
    }
   },
   "outputs": [],
   "source": []
  }
 ],
 "metadata": {
  "language_info": {
   "name": "python"
  }
 },
 "nbformat": 4,
 "nbformat_minor": 2
}
