{
 "cells": [
  {
   "cell_type": "markdown",
   "metadata": {},
   "source": [
    "### Anonymous functions\n",
    "1. Lambda function\n",
    "2. Map function\n",
    "3. Reduce Function\n",
    "4. Filter function"
   ]
  },
  {
   "cell_type": "markdown",
   "metadata": {},
   "source": [
    "### Lambda"
   ]
  },
  {
   "cell_type": "markdown",
   "metadata": {},
   "source": [
    "A lambda function is an anonymous (nameless) function defined using the lambda keyword. It is typically used for short, throwaway functions that are not reused elsewhere."
   ]
  },
  {
   "cell_type": "code",
   "execution_count": 1,
   "metadata": {},
   "outputs": [],
   "source": [
    "#### syntax:\n",
    "# lambda arguments: expression\n"
   ]
  },
  {
   "cell_type": "code",
   "execution_count": null,
   "metadata": {},
   "outputs": [
    {
     "name": "stdout",
     "output_type": "stream",
     "text": [
      "25\n"
     ]
    }
   ],
   "source": [
    "# Regular function\n",
    "def square(x):\n",
    "    return x * x\n",
    "\n",
    "# Lambda function\n",
    "square_lambda = lambda x: x * x\n",
    "print(square_lambda(5))  # Output: 25\n"
   ]
  },
  {
   "cell_type": "markdown",
   "metadata": {},
   "source": [
    "Use case: When you need a small function for immediate use, especially as an argument to other functions."
   ]
  },
  {
   "cell_type": "markdown",
   "metadata": {},
   "source": [
    "### Filter "
   ]
  },
  {
   "cell_type": "markdown",
   "metadata": {},
   "source": [
    "The filter function is used to filter elements of a sequence (like a list) based on a condition defined by a function. It returns an iterator of elements that evaluate to True."
   ]
  },
  {
   "cell_type": "markdown",
   "metadata": {},
   "source": [
    "- Syntax:\n",
    "- filter(function, iterable)\n",
    "1. function: A function that returns True or False.\n",
    "2. iterable: The sequence to be filtered."
   ]
  },
  {
   "cell_type": "code",
   "execution_count": 3,
   "metadata": {},
   "outputs": [
    {
     "name": "stdout",
     "output_type": "stream",
     "text": [
      "[2, 4, 6]\n"
     ]
    }
   ],
   "source": [
    "numbers = [1, 2, 3, 4, 5, 6]\n",
    "# Filter even numbers using lambda\n",
    "even_numbers = filter(lambda x: x % 2 == 0, numbers)\n",
    "print(list(even_numbers))  # Output: [2, 4, 6]\n"
   ]
  },
  {
   "cell_type": "markdown",
   "metadata": {},
   "source": [
    "### Map"
   ]
  },
  {
   "cell_type": "markdown",
   "metadata": {},
   "source": [
    "1. The map function applies a given function to every item of an iterable (like a list) and returns an iterator containing the results.\n",
    "\n",
    "- Syntax:\n",
    "- map(function, iterable)\n",
    "1. function: The transformation function.\n",
    "2. iterable: The sequence to be transformed."
   ]
  },
  {
   "cell_type": "code",
   "execution_count": 4,
   "metadata": {},
   "outputs": [
    {
     "name": "stdout",
     "output_type": "stream",
     "text": [
      "[1, 4, 9, 16]\n"
     ]
    }
   ],
   "source": [
    "numbers = [1, 2, 3, 4]\n",
    "# Square each number using map and lambda\n",
    "squared = map(lambda x: x * x, numbers)\n",
    "print(list(squared))  # Output: [1, 4, 9, 16]\n"
   ]
  },
  {
   "cell_type": "markdown",
   "metadata": {},
   "source": [
    "Use case: When you need to transform a sequence without modifying the original one."
   ]
  },
  {
   "cell_type": "markdown",
   "metadata": {},
   "source": [
    "### reduce"
   ]
  },
  {
   "cell_type": "markdown",
   "metadata": {},
   "source": [
    "- The reduce function is part of the functools module and is used to cumulatively apply a binary function to the items of an iterable, reducing the iterable to a single value.\n",
    "- Syntax:\n",
    "- from functools import reduce\n",
    "- reduce(function, iterable, initializer=None)\n",
    "1. function: A function that takes two arguments and returns a single value.\n",
    "2. iterable: The sequence to be reduced.\n",
    "3. initializer (optional): A starting value for the reduction."
   ]
  },
  {
   "cell_type": "code",
   "execution_count": 5,
   "metadata": {},
   "outputs": [
    {
     "name": "stdout",
     "output_type": "stream",
     "text": [
      "24\n"
     ]
    }
   ],
   "source": [
    "from functools import reduce\n",
    "\n",
    "numbers = [1, 2, 3, 4]\n",
    "# Find the product of all numbers\n",
    "product = reduce(lambda x, y: x * y, numbers)\n",
    "print(product)  # Output: 24\n"
   ]
  },
  {
   "cell_type": "markdown",
   "metadata": {},
   "source": [
    "Use case: Aggregating a sequence into a single result (e.g., summing, multiplying, or finding the maximum)."
   ]
  },
  {
   "cell_type": "markdown",
   "metadata": {},
   "source": [
    "## Class Questions"
   ]
  },
  {
   "cell_type": "markdown",
   "metadata": {},
   "source": [
    "## Lambda Problems\n",
    "1. Write a lambda function to compute the cube of a number.\n",
    "2. Create a lambda function to check if a given string is a palindrome.\n",
    "3. Define a lambda function to find the maximum of three numbers.\n",
    "4. Implement a lambda function to convert Celsius to Fahrenheit.\n",
    "5. Write a lambda function to reverse a string.\n",
    "6. Create a lambda function to check if a number is divisible by both 3 and 5.\n",
    "7. Define a lambda function to return the length of a given string.\n",
    "8. Write a lambda function to calculate the area of a rectangle given its length and width.\n",
    "9. Create a lambda function to concatenate two strings with a space in between.\n",
    "10. Implement a lambda function to check if a given year is a leap year.\n",
    "\n",
    "## Filter Problems\n",
    "11. Use filter to extract even numbers from a list.\n",
    "12. Use filter to find all numbers greater than 10 in a given list.\n",
    "13. Filter out all strings containing less than 5 characters from a list of strings.\n",
    "14. Use filter to get all prime numbers from a list.\n",
    "15. Filter all numbers divisible by 7 from a range of 1 to 100.\n",
    "16. Extract all names starting with the letter \"A\" from a list of names.\n",
    "17. Filter out all negative numbers from a list of integers.\n",
    "18. Use filter to extract words containing the letter \"e\" from a list of words.\n",
    "19. Filter out non-alphabetic strings from a mixed list of integers and strings.\n",
    "20. Find all palindrome strings in a list of words.\n",
    "\n",
    "## Map Problems\n",
    "21. Use map to square all elements in a list of numbers.\n",
    "22. Use map to convert all strings in a list to uppercase.\n",
    "23. Multiply each element in a list by 3 using map.\n",
    "24. Use map to compute the lengths of strings in a list.\n",
    "25. Add 5 to each element of a given list using map.\n",
    "26. Convert a list of temperatures from Fahrenheit to Celsius using map.\n",
    "27. Use map to reverse all strings in a list of strings.\n",
    "28. Compute the cubes of all elements in a list using map.\n",
    "29. Use map to concatenate corresponding elements from two lists of strings.\n",
    "30. Convert a list of integers to their binary representations using map.\n",
    "\n",
    "## Reduce Problems\n",
    "31. Use reduce to calculate the sum of all numbers in a list.\n",
    "32. Find the product of all elements in a list using reduce.\n",
    "33. Use reduce to find the largest number in a list.\n",
    "34. Concatenate all strings in a list into a single string using reduce.\n",
    "35. Use reduce to compute the factorial of a number using a range.\n",
    "36. Find the smallest number in a list using reduce.\n",
    "37. Compute the cumulative sum of a list using reduce.\n",
    "38. Use reduce to calculate the XOR of all numbers in a list.\n",
    "39. Implement a reduce function to find the greatest common divisor (GCD) of a list of numbers.\n",
    "40. Use reduce to count the number of occurrences of a specific element in a list."
   ]
  },
  {
   "cell_type": "code",
   "execution_count": null,
   "metadata": {},
   "outputs": [],
   "source": []
  }
 ],
 "metadata": {
  "kernelspec": {
   "display_name": "myenv",
   "language": "python",
   "name": "python3"
  },
  "language_info": {
   "codemirror_mode": {
    "name": "ipython",
    "version": 3
   },
   "file_extension": ".py",
   "mimetype": "text/x-python",
   "name": "python",
   "nbconvert_exporter": "python",
   "pygments_lexer": "ipython3",
   "version": "3.12.7"
  }
 },
 "nbformat": 4,
 "nbformat_minor": 2
}
