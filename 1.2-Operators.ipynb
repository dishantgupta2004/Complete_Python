{
 "cells": [
  {
   "cell_type": "markdown",
   "metadata": {},
   "source": [
    "Python provides a wide variety of operators to perform operations on variables and values. Here's a detailed explanation of the types of operators, their usage, and precedence."
   ]
  },
  {
   "cell_type": "markdown",
   "metadata": {},
   "source": [
    "### Types of operators"
   ]
  },
  {
   "cell_type": "markdown",
   "metadata": {},
   "source": [
    "1. Arithmetic operator\n",
    "\n",
    "- Used to perform basic mathematical operations.\n",
    "- Addition\t3 + 5 = 8\n",
    "- Subtraction\t10 - 4 = 6\n",
    "* Multiplication\t2 * 3 = 6\n",
    "* Division (float)\t7 / 2 = 3.5\n",
    "- floor Division\t7 // 2 = 3\n",
    "- Modulus (remainder)\t7 % 2 = 1\n",
    "- Exponentiation (power)\t2 ** 3 = 8"
   ]
  },
  {
   "cell_type": "markdown",
   "metadata": {},
   "source": [
    "#### 2. Comparison (Relational) Operators\n",
    "- Used to compare two values; return True or False.\n",
    "1. ==\tEqual to\t5 == 5 → True\n",
    "2. !=\tNot equal to\t5 != 3 → True\n",
    "3. >\tGreater than\t5 > 3 → True\n",
    "4. <\tLess than\t5 < 3 → False\n",
    "5. >=\tGreater than or equal to\t5 >= 3 → True\n",
    "6. <=\tLess than or equal to\t5 <= 5 → True\n"
   ]
  },
  {
   "cell_type": "markdown",
   "metadata": {},
   "source": [
    "#### 3. Logical Operators\n",
    "- Used to combine conditional statements.\n",
    "1. and\t(Logical AND)\tTrue and False → False\n",
    "2. or\t(Logical OR)\tTrue or False → True\n",
    "3. not\t(Logical NOT)\tnot True → False"
   ]
  },
  {
   "cell_type": "markdown",
   "metadata": {},
   "source": [
    "#### 4. Assignment Operators\n",
    "- Used to assign values to variables.\n",
    "1. =\tAssign\tx = 5\n",
    "2. +=\tAdd and assign\tx += 2 → x = x + 2\n",
    "3. -=\tSubtract and assign\tx -= 2 → x = x - 2\n",
    "4. *=\tMultiply and assign\tx *= 3 → x = x * 3\n",
    "5. /=\tDivide and assign\tx /= 2 → x = x / 2\n",
    "6. //=\tFloor divide and assign\tx //= 2 → x = x // 2\n",
    "7. %=\tModulus and assign\tx %= 2 → x = x % 2\n",
    "8. **=\tExponent and assign\tx **= 3 → x = x ** 3\n"
   ]
  },
  {
   "cell_type": "markdown",
   "metadata": {},
   "source": [
    "#### 5. Bitwise Operators\n",
    "- Operate on bits of numbers.\n",
    "1. &\tBitwise AND\t5 & 3 → 1\n",
    "2. \t`\tBitwise OR\n",
    "3. ^\tBitwise XOR\t5 ^ 3 → 6\n",
    "4. ~\tBitwise NOT\t~5 → -6\n",
    "5. <<\tBitwise left shift\t5 << 1 → 10\n",
    "6. (>>)\tBitwise right shift\t5 >> 1 → 2"
   ]
  },
  {
   "cell_type": "markdown",
   "metadata": {},
   "source": [
    "#### 6. Membership Operators\n",
    "- Test for membership in sequences like lists, tuples, etc.\n",
    "1. (in): \tTrue if value exists\t'a' in 'abc' → True\n",
    "2. (not in): True if value doesn't exist\t'x' not in 'abc' → True"
   ]
  },
  {
   "cell_type": "markdown",
   "metadata": {},
   "source": [
    "#### 7. Identity Operators\n",
    "- Test if two variables refer to the same object in memory.\n",
    "1. (is)\tTrue if same object\tx is y\n",
    "2. (is not)\tTrue if not same object\tx is not y"
   ]
  },
  {
   "cell_type": "markdown",
   "metadata": {},
   "source": [
    "### Operator Precedence"
   ]
  },
  {
   "cell_type": "markdown",
   "metadata": {},
   "source": [
    "| **Precedence** | **Operator**                          |\n",
    "|----------------|---------------------------------------|\n",
    "| 1              | `()` (Parentheses)                   |\n",
    "| 2              | `**` (Exponentiation)                |\n",
    "| 3              | `+x`, `-x`, `~x` (Unary operators)   |\n",
    "| 4              | `*`, `/`, `//`, `%` (Multiplication, Division, Modulus) |\n",
    "| 5              | `+`, `-` (Addition, Subtraction)     |\n",
    "| 6              | `<<`, `>>` (Bitwise shifts)          |\n",
    "| 7              | `&` (Bitwise AND)                    |\n",
    "| 8              | `^` (Bitwise XOR)                    |\n",
    "| 9              | `|` (Bitwise OR)                     |\n",
    "| 10             | `in`, `not in`, `is`, `is not`, `==`, `!=`, `<`, `<=`, `>`, `>=` (Comparisons) |\n",
    "| 11             | `not` (Logical NOT)                  |\n",
    "| 12             | `and` (Logical AND)                  |\n",
    "| 13             | `or` (Logical OR)                    |\n"
   ]
  },
  {
   "cell_type": "markdown",
   "metadata": {},
   "source": [
    "| **No.** | **Question**                                                                                                                                                   | **Solution**                                                                                                                                                                                                                                                                              |\n",
    "|---------|---------------------------------------------------------------------------------------------------------------------------------------------------------------|------------------------------------------------------------------------------------------------------------------------------------------------------------------------------------------------------------------------------------------------------------------------------------------|\n",
    "| 1       | What will be the output of `3 + 2 * 2`?                                                                                                                       | `7` (Multiplication has higher precedence than addition: `2 * 2 = 4`, then `3 + 4 = 7`).                                                                                                                                                                                                 |\n",
    "| 2       | How do the `is` and `==` operators differ in Python?                                                                                                          | `is` checks if two variables refer to the same object in memory, while `==` checks if their values are equal. Example: `x = [1, 2]`, `y = [1, 2]`, `x == y` is `True` but `x is y` is `False`.                                                                                          |\n",
    "| 3       | What is the output of `5 / 2` and `5 // 2` in Python?                                                                                                         | `5 / 2 = 2.5` (float division), `5 // 2 = 2` (floor division, discards fractional part).                                                                                                                                                                                                 |\n",
    "| 4       | Predict the output of `5 & 3`.                                                                                                                                | `1` (Bitwise AND: Binary of 5 is `101`, and of 3 is `011`. AND operation gives `001`, which is `1`).                                                                                                                                                                                     |\n",
    "| 5       | Write a Python expression using the modulus operator to check if a number `n` is even.                                                                       | `n % 2 == 0` (If the remainder when dividing `n` by 2 is `0`, the number is even).                                                                                                                                                                                                       |\n",
    "| 6       | What will be the result of `not (True and False)`?                                                                                                            | `True` (`True and False` evaluates to `False`, and `not False` gives `True`).                                                                                                                                                                                                            |\n",
    "| 7       | Given `a = 10` and `b = 20`, write an expression that swaps their values using bitwise XOR.                                                                   | ```a = a ^ b; b = a ^ b; a = a ^ b``` After this, `a = 20` and `b = 10`.                                                                                                                                                                                                                 |\n",
    "| 8       | What does `~5` evaluate to in Python?                                                                                                                         | `-6` (Bitwise NOT inverts all bits. Binary of `5` is `00000101`, and its inversion is `11111010`, which is `-6` in two's complement).                                                                                                                                                     |\n",
    "| 9       | Predict the output: `3 < 5 == True`.                                                                                                                          | `False` (`<` has higher precedence than `==`, so it evaluates as `(3 < 5) and (5 == True)`. Since `5 == True` is `False`, the output is `False`).                                                                                                                                        |\n",
    "| 10      | Can you write a chained comparison in Python to check if a number `x` is between 10 and 20 (inclusive)?                                                      | `10 <= x <= 20` (Python supports chained comparisons, which are equivalent to `10 <= x and x <= 20`).                                                                                                                                                                                    |\n"
   ]
  },
  {
   "cell_type": "code",
   "execution_count": 1,
   "metadata": {},
   "outputs": [
    {
     "name": "stdout",
     "output_type": "stream",
     "text": [
      "False\n",
      "True\n"
     ]
    }
   ],
   "source": [
    "x = [1,2]\n",
    "y = [1, 2] \n",
    "\n",
    "print(x is y)  ## use of is\n",
    "print(x == y)   ## use of =="
   ]
  },
  {
   "cell_type": "code",
   "execution_count": 2,
   "metadata": {},
   "outputs": [
    {
     "name": "stdout",
     "output_type": "stream",
     "text": [
      "True\n",
      "True\n"
     ]
    }
   ],
   "source": [
    "x = [1,2]\n",
    "y = x\n",
    "print(x == y)\n",
    "print(x is y)"
   ]
  },
  {
   "cell_type": "code",
   "execution_count": 3,
   "metadata": {},
   "outputs": [
    {
     "data": {
      "text/plain": [
       "True"
      ]
     },
     "execution_count": 3,
     "metadata": {},
     "output_type": "execute_result"
    }
   ],
   "source": [
    "3 < 5 == 5"
   ]
  },
  {
   "cell_type": "code",
   "execution_count": 4,
   "metadata": {},
   "outputs": [
    {
     "data": {
      "text/plain": [
       "False"
      ]
     },
     "execution_count": 4,
     "metadata": {},
     "output_type": "execute_result"
    }
   ],
   "source": [
    "3 < 5 <1"
   ]
  },
  {
   "cell_type": "code",
   "execution_count": 5,
   "metadata": {},
   "outputs": [
    {
     "data": {
      "text/plain": [
       "True"
      ]
     },
     "execution_count": 5,
     "metadata": {},
     "output_type": "execute_result"
    }
   ],
   "source": [
    "3 <= 3 >1 +1*3 & 10"
   ]
  },
  {
   "cell_type": "code",
   "execution_count": null,
   "metadata": {},
   "outputs": [],
   "source": []
  }
 ],
 "metadata": {
  "kernelspec": {
   "display_name": "myenv",
   "language": "python",
   "name": "python3"
  },
  "language_info": {
   "codemirror_mode": {
    "name": "ipython",
    "version": 3
   },
   "file_extension": ".py",
   "mimetype": "text/x-python",
   "name": "python",
   "nbconvert_exporter": "python",
   "pygments_lexer": "ipython3",
   "version": "3.12.7"
  }
 },
 "nbformat": 4,
 "nbformat_minor": 2
}
