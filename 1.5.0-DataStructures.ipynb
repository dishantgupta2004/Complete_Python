{
 "cells": [
  {
   "cell_type": "markdown",
   "metadata": {},
   "source": [
    "### Lists\n"
   ]
  },
  {
   "cell_type": "markdown",
   "metadata": {},
   "source": [
    "1. Introduction To Lists\n",
    "- Lists are ordered, mutable collections of items.\n",
    "- They can contain items of different data types.\n",
    "\n",
    "2. Introduction to Lists\n",
    "- Creating Lists\n",
    "- Accessing List Elements\n",
    "- Modifying List Elements\n",
    "- List Methods\n",
    "- Slicing Lists\n",
    "- Iterating Over Lists\n",
    "- List Comprehensions\n",
    "- Nested Lists\n",
    "- Practical Examples and Common Errors"
   ]
  },
  {
   "cell_type": "code",
   "execution_count": 1,
   "metadata": {},
   "outputs": [
    {
     "name": "stdout",
     "output_type": "stream",
     "text": [
      "<class 'list'>\n"
     ]
    }
   ],
   "source": [
    "lst=[]\n",
    "print(type(lst))"
   ]
  },
  {
   "cell_type": "code",
   "execution_count": 2,
   "metadata": {},
   "outputs": [
    {
     "name": "stdout",
     "output_type": "stream",
     "text": [
      "['Krish', 'Jack', 'Jacob', 1, 2, 3, 4, 5]\n"
     ]
    }
   ],
   "source": [
    "names=[\"Krish\",\"Jack\",\"Jacob\",1,2,3,4,5]\n",
    "print(names)"
   ]
  },
  {
   "cell_type": "code",
   "execution_count": 3,
   "metadata": {},
   "outputs": [
    {
     "name": "stdout",
     "output_type": "stream",
     "text": [
      "[1, 'Hello', 3.14, True]\n"
     ]
    }
   ],
   "source": [
    "mixed_list=[1,\"Hello\",3.14,True]\n",
    "print(mixed_list)"
   ]
  },
  {
   "cell_type": "code",
   "execution_count": 4,
   "metadata": {},
   "outputs": [
    {
     "name": "stdout",
     "output_type": "stream",
     "text": [
      "apple\n",
      "cherry\n",
      "gauva\n",
      "gauva\n"
     ]
    }
   ],
   "source": [
    "### Accessing List Elements\n",
    "\n",
    "fruits=[\"apple\",\"banana\",\"cherry\",\"kiwi\",\"gauva\"]\n",
    "\n",
    "print(fruits[0])\n",
    "print(fruits[2])\n",
    "print(fruits[4])\n",
    "print(fruits[-1])"
   ]
  },
  {
   "cell_type": "code",
   "execution_count": 5,
   "metadata": {},
   "outputs": [
    {
     "name": "stdout",
     "output_type": "stream",
     "text": [
      "['banana', 'cherry', 'kiwi', 'gauva']\n",
      "['banana', 'cherry']\n"
     ]
    }
   ],
   "source": [
    "print(fruits[1:])\n",
    "print(fruits[1:3])"
   ]
  },
  {
   "cell_type": "code",
   "execution_count": 6,
   "metadata": {},
   "outputs": [
    {
     "name": "stdout",
     "output_type": "stream",
     "text": [
      "['apple', 'watermelon', 'cherry', 'kiwi', 'gauva']\n"
     ]
    }
   ],
   "source": [
    "## Modifying The List elements\n",
    "fruits[1]=\"watermelon\"\n",
    "print(fruits)"
   ]
  },
  {
   "cell_type": "code",
   "execution_count": 8,
   "metadata": {},
   "outputs": [
    {
     "name": "stdout",
     "output_type": "stream",
     "text": [
      "['apple', 'w', 'a', 't', 'e', 'r', 'm', 'e', 'l', 'o', 'n']\n"
     ]
    }
   ],
   "source": [
    "fruits[1:]=\"watermelon\"\n",
    "\n",
    "print(fruits)"
   ]
  },
  {
   "cell_type": "markdown",
   "metadata": {},
   "source": [
    "### List Methods"
   ]
  },
  {
   "cell_type": "markdown",
   "metadata": {},
   "source": [
    "# Python Data Structures: Methods and Differences\n",
    "\n",
    "## **1. List Methods**\n",
    "\n",
    "| Method          | Description                                   | Example Usage                                       | Output/Effect                  |\n",
    "|------------------|-----------------------------------------------|---------------------------------------------------|---------------------------------|\n",
    "| `append()`       | Adds an element at the end of the list       | `lst = [1, 2]; lst.append(3)`                     | `[1, 2, 3]`                    |\n",
    "| `extend()`       | Extends list by adding elements from iterable | `lst = [1]; lst.extend([2, 3])`                   | `[1, 2, 3]`                    |\n",
    "| `insert()`       | Inserts an element at a specific index       | `lst = [1, 3]; lst.insert(1, 2)`                  | `[1, 2, 3]`                    |\n",
    "| `remove()`       | Removes the first matching element           | `lst = [1, 2, 3]; lst.remove(2)`                  | `[1, 3]`                       |\n",
    "| `pop()`          | Removes and returns an element by index      | `lst = [1, 2]; lst.pop(1)`                        | `2`, `[1]`                     |\n",
    "| `index()`        | Returns the index of the first occurrence    | `lst = [1, 2, 2]; lst.index(2)`                   | `1`                            |\n",
    "| `count()`        | Counts occurrences of an element             | `lst = [1, 2, 2]; lst.count(2)`                   | `2`                            |\n",
    "| `sort()`         | Sorts the list in place                      | `lst = [3, 1, 2]; lst.sort()`                     | `[1, 2, 3]`                    |\n",
    "| `reverse()`      | Reverses the list in place                   | `lst = [1, 2]; lst.reverse()`                     | `[2, 1]`                       |\n",
    "| `clear()`        | Removes all elements from the list           | `lst = [1, 2]; lst.clear()`                       | `[]`                           |\n",
    "\n",
    "---\n",
    "\n",
    "## **2. Tuple Methods**\n",
    "\n",
    "| Method          | Description                                   | Example Usage                                       | Output/Effect                  |\n",
    "|------------------|-----------------------------------------------|---------------------------------------------------|---------------------------------|\n",
    "| `count()`        | Counts occurrences of an element             | `tpl = (1, 2, 2); tpl.count(2)`                   | `2`                            |\n",
    "| `index()`        | Returns the index of the first occurrence    | `tpl = (1, 2, 3); tpl.index(2)`                   | `1`                            |\n",
    "\n",
    "> Tuples are **immutable**, so most list-like operations are not available.\n",
    "\n",
    "---\n",
    "\n",
    "## **3. Dictionary Methods**\n",
    "\n",
    "| Method          | Description                                   | Example Usage                                       | Output/Effect                  |\n",
    "|------------------|-----------------------------------------------|---------------------------------------------------|---------------------------------|\n",
    "| `get()`          | Returns the value for a given key            | `d = {'a': 1}; d.get('a')`                        | `1`                            |\n",
    "| `keys()`         | Returns all keys                             | `d = {'a': 1}; d.keys()`                          | `dict_keys(['a'])`             |\n",
    "| `values()`       | Returns all values                           | `d = {'a': 1}; d.values()`                        | `dict_values([1])`             |\n",
    "| `items()`        | Returns all key-value pairs as tuples        | `d = {'a': 1}; d.items()`                         | `dict_items([('a', 1)])`       |\n",
    "| `update()`       | Updates dictionary with another dictionary   | `d = {'a': 1}; d.update({'b': 2})`                | `{'a': 1, 'b': 2}`             |\n",
    "| `pop()`          | Removes and returns value of a key           | `d = {'a': 1}; d.pop('a')`                        | `1`, `{}`                      |\n",
    "| `popitem()`      | Removes and returns a random key-value pair  | `d = {'a': 1}; d.popitem()`                       | `('a', 1)`                     |\n",
    "| `setdefault()`   | Returns value for key or sets default if not found | `d = {'a': 1}; d.setdefault('b', 2)`           | `2`, `{'a': 1, 'b': 2}`        |\n",
    "| `clear()`        | Removes all key-value pairs                  | `d = {'a': 1}; d.clear()`                         | `{}`                           |\n",
    "\n",
    "---\n",
    "\n",
    "## **4. Set Methods**\n",
    "\n",
    "| Method          | Description                                   | Example Usage                                       | Output/Effect                  |\n",
    "|------------------|-----------------------------------------------|---------------------------------------------------|---------------------------------|\n",
    "| `add()`          | Adds an element                             | `s = {1}; s.add(2)`                               | `{1, 2}`                       |\n",
    "| `remove()`       | Removes a specific element                  | `s = {1, 2}; s.remove(1)`                         | `{2}`                          |\n",
    "| `discard()`      | Removes an element (no error if not found)  | `s = {1}; s.discard(2)`                           | `{1}`                          |\n",
    "| `pop()`          | Removes and returns an arbitrary element    | `s = {1, 2}; s.pop()`                             | `1`, `{2}`                     |\n",
    "| `clear()`        | Removes all elements                        | `s = {1, 2}; s.clear()`                           | `set()`                        |\n",
    "| `union()`        | Returns a union of sets                     | `s1, s2 = {1}, {2}; s1.union(s2)`                | `{1, 2}`                       |\n",
    "| `intersection()` | Returns an intersection of sets             | `s1, s2 = {1, 2}, {2}; s1.intersection(s2)`       | `{2}`                          |\n",
    "| `difference()`   | Returns a difference of sets                | `s1, s2 = {1, 2}, {2}; s1.difference(s2)`         | `{1}`                          |\n",
    "| `issubset()`     | Checks if a set is a subset of another      | `s1, s2 = {1}, {1, 2}; s1.issubset(s2)`           | `True`                         |\n",
    "| `issuperset()`   | Checks if a set is a superset of another    | `s1, s2 = {1, 2}, {1}; s1.issuperset(s2)`         | `True`                         |\n",
    "\n",
    "---\n",
    "\n",
    "## **Comparison**\n",
    "\n",
    "| Feature          | List                     | Tuple               | Dictionary                | Set                    |\n",
    "|-------------------|--------------------------|----------------------|---------------------------|------------------------|\n",
    "| **Mutability**    | Mutable                 | Immutable            | Mutable                   | Mutable                |\n",
    "| **Order**         | Ordered (since Python 3.7) | Ordered (immutable) | Ordered (since Python 3.7) | Unordered             |\n",
    "| **Duplicates**    | Allowed                 | Allowed              | Keys: Unique, Values: Allowed | Not Allowed         |\n",
    "| **Indexed Access**| Supported               | Supported            | Keys-based access         | Not Supported          |\n",
    "| **Primary Use**   | Collection of items     | Fixed collection     | Key-value pairs           | Unique elements        |\n"
   ]
  },
  {
   "cell_type": "markdown",
   "metadata": {},
   "source": [
    "### List Slicing "
   ]
  },
  {
   "cell_type": "code",
   "execution_count": 10,
   "metadata": {},
   "outputs": [
    {
     "name": "stdout",
     "output_type": "stream",
     "text": [
      "[3, 4, 5]\n",
      "[1, 2, 3, 4, 5]\n",
      "[6, 7, 8, 9, 10]\n",
      "[1, 3, 5, 7, 9]\n",
      "[10, 9, 8, 7, 6, 5, 4, 3, 2, 1]\n"
     ]
    }
   ],
   "source": [
    "numbers = [1, 2, 3, 4, 5, 6, 7, 8, 9, 10]\n",
    "print(numbers[2:5])\n",
    "print(numbers[:5])\n",
    "print(numbers[5:])\n",
    "print(numbers[::2])\n",
    "print(numbers[::-1])"
   ]
  },
  {
   "cell_type": "code",
   "execution_count": 11,
   "metadata": {},
   "outputs": [
    {
     "data": {
      "text/plain": [
       "[1, 4, 7, 10]"
      ]
     },
     "execution_count": 11,
     "metadata": {},
     "output_type": "execute_result"
    }
   ],
   "source": [
    "numbers[::3]"
   ]
  },
  {
   "cell_type": "code",
   "execution_count": 12,
   "metadata": {},
   "outputs": [
    {
     "name": "stdout",
     "output_type": "stream",
     "text": [
      "1\n",
      "2\n",
      "3\n",
      "4\n",
      "5\n",
      "6\n",
      "7\n",
      "8\n",
      "9\n",
      "10\n"
     ]
    }
   ],
   "source": [
    "### Iterating Over List\n",
    "\n",
    "for number in numbers:\n",
    "    print(number)"
   ]
  },
  {
   "cell_type": "code",
   "execution_count": 13,
   "metadata": {},
   "outputs": [
    {
     "name": "stdout",
     "output_type": "stream",
     "text": [
      "0 1\n",
      "1 2\n",
      "2 3\n",
      "3 4\n",
      "4 5\n",
      "5 6\n",
      "6 7\n",
      "7 8\n",
      "8 9\n",
      "9 10\n"
     ]
    }
   ],
   "source": [
    "## Iterating with index\n",
    "for index,number in enumerate(numbers):\n",
    "    print(index,number)"
   ]
  },
  {
   "cell_type": "code",
   "execution_count": 14,
   "metadata": {},
   "outputs": [
    {
     "name": "stdout",
     "output_type": "stream",
     "text": [
      "[0, 1, 4, 9, 16, 25, 36, 49, 64, 81]\n"
     ]
    }
   ],
   "source": [
    "## List comprehension\n",
    "lst=[]\n",
    "for x in range(10):\n",
    "    lst.append(x**2)\n",
    "\n",
    "print(lst)"
   ]
  },
  {
   "cell_type": "code",
   "execution_count": 15,
   "metadata": {},
   "outputs": [
    {
     "data": {
      "text/plain": [
       "[0, 1, 4, 9, 16, 25, 36, 49, 64, 81]"
      ]
     },
     "execution_count": 15,
     "metadata": {},
     "output_type": "execute_result"
    }
   ],
   "source": [
    "[x**2 for x in range(10)]"
   ]
  },
  {
   "cell_type": "markdown",
   "metadata": {},
   "source": [
    "** List Comprehension **\n",
    "1. Basics Syantax [expression for item in iterable]\n",
    "2. with conditional logic [expression for item in iterable if condition]\n",
    "3. Nested List Comprehension [expression for item1 in iterable1 for item2 in iterable2]"
   ]
  },
  {
   "cell_type": "code",
   "execution_count": 16,
   "metadata": {},
   "outputs": [
    {
     "name": "stdout",
     "output_type": "stream",
     "text": [
      "[0, 1, 4, 9, 16, 25, 36, 49, 64, 81]\n"
     ]
    }
   ],
   "source": [
    "### Basic List Comphrension\n",
    "\n",
    "sqaure=[num**2 for num in range(10)]\n",
    "print(sqaure)"
   ]
  },
  {
   "cell_type": "code",
   "execution_count": 17,
   "metadata": {},
   "outputs": [
    {
     "name": "stdout",
     "output_type": "stream",
     "text": [
      "[0, 2, 4, 6, 8]\n"
     ]
    }
   ],
   "source": [
    "even_numbers=[num for num in range(10) if num%2==0]\n",
    "print(even_numbers)"
   ]
  },
  {
   "cell_type": "code",
   "execution_count": 18,
   "metadata": {},
   "outputs": [
    {
     "name": "stdout",
     "output_type": "stream",
     "text": [
      "[5, 5, 6, 4, 13]\n"
     ]
    }
   ],
   "source": [
    "## List Comprehension with function calls\n",
    "words = [\"hello\", \"world\", \"python\", \"list\", \"comprehension\"]\n",
    "lengths = [len(word) for word in words]\n",
    "print(lengths)  # Output: [5, 5, 6, 4, 13]"
   ]
  },
  {
   "cell_type": "code",
   "execution_count": null,
   "metadata": {},
   "outputs": [],
   "source": []
  }
 ],
 "metadata": {
  "kernelspec": {
   "display_name": "myenv",
   "language": "python",
   "name": "python3"
  },
  "language_info": {
   "codemirror_mode": {
    "name": "ipython",
    "version": 3
   },
   "file_extension": ".py",
   "mimetype": "text/x-python",
   "name": "python",
   "nbconvert_exporter": "python",
   "pygments_lexer": "ipython3",
   "version": "3.12.7"
  }
 },
 "nbformat": 4,
 "nbformat_minor": 2
}
